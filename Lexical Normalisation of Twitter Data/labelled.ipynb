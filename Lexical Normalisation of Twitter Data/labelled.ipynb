{
 "cells": [
  {
   "cell_type": "markdown",
   "metadata": {},
   "source": [
    "### Preamble"
   ]
  },
  {
   "cell_type": "code",
   "execution_count": 4,
   "metadata": {
    "collapsed": true
   },
   "outputs": [],
   "source": [
    "import editdistance\n",
    "import jellyfish as jf\n",
    "from collections import Counter\n",
    "import re\n",
    "from ngram import NGram\n",
    "# import nltk\n",
    "\n",
    "n = NGram(dict1, key=lambda x:x.lower(), N=2)\n",
    "# snowball = nltk.SnowballStemmer(\"english\", ignore_stopwords=True)"
   ]
  },
  {
   "cell_type": "markdown",
   "metadata": {},
   "source": [
    "### Levenshtein Distance \n",
    "\n",
    "Once a candidate has been identified for normalisation, firstly, \n",
    "edit distance (Levenshtein distance) technique is applied to find matches from (dict.txt) \n",
    "which are within 2 (inclusive) edit distance of the query. The results are stored in an array. \n",
    "We refer to this set as the “First Set of Matches based on Edit Distance” \n",
    "since they contain approximate matches based on their textual similarity to the query."
   ]
  },
  {
   "cell_type": "code",
   "execution_count": 10,
   "metadata": {
    "collapsed": true
   },
   "outputs": [],
   "source": [
    "def levenshtein_distance(string, dictionary):   \n",
    "    return [x for x in dictionary if editdistance.eval(string, x) <= 2]"
   ]
  },
  {
   "cell_type": "markdown",
   "metadata": {},
   "source": [
    "### Phonetic Matching"
   ]
  },
  {
   "cell_type": "code",
   "execution_count": 4,
   "metadata": {
    "collapsed": true
   },
   "outputs": [],
   "source": [
    "from pyphonetics import RefinedSoundex\n",
    "from pyphonetics import Metaphone\n",
    "import py_stringmatching as ps\n",
    "\n",
    "rs = RefinedSoundex()\n",
    "mp = Metaphone()\n",
    "\n",
    "def phonetic_match(string, dictionary):\n",
    "    #return [x for x in dictionary if rs.distance(string, x) <= 1]\n",
    "    #return [x for x in dictionary if ps.Editex.get_sim_score(string, x) >= 0.5]\n",
    "    return [x for x in dictionary if mp.sounds_like(string, x)]"
   ]
  },
  {
   "cell_type": "markdown",
   "metadata": {},
   "source": [
    "### [Peter Norvig’s Algorithm](http://norvig.com/spell-correct.html)\n",
    "\n",
    "Algorithm generates all possible terms with an edit distance of less than or equal to 2 (which includes deletes, transposes, replaces, and inserts) from the query term and searches them in the dictionary (big.txt)."
   ]
  },
  {
   "cell_type": "code",
   "execution_count": 467,
   "metadata": {
    "collapsed": true
   },
   "outputs": [],
   "source": [
    "# author: Peter Norvig\n",
    "\n",
    "def words(text): return re.findall(r'\\w+', text.lower())\n",
    "\n",
    "WORDS = Counter(words(open('big.txt').read()))\n",
    "\n",
    "def P(word, N=sum(WORDS.values())): \n",
    "    \"Probability of `word`.\"\n",
    "    return WORDS[word] / N\n",
    "\n",
    "def correction(word): \n",
    "    \"Most probable spelling correction for word.\"\n",
    "    return max(candidates(word), key=P)\n",
    "\n",
    "def candidates(word): \n",
    "    \"Generate possible spelling corrections for word.\"\n",
    "    return (known([word]) or known(edits1(word)) or known(edits2(word)) or [word])\n",
    "\n",
    "def known(words): \n",
    "    \"The subset of `words` that appear in the dictionary of WORDS.\"\n",
    "    return set(w for w in words if w in WORDS)\n",
    "\n",
    "def edits1(word):\n",
    "    \"All edits that are one edit away from `word`.\"\n",
    "    letters    = 'abcdefghijklmnopqrstuvwxyz'\n",
    "    splits     = [(word[:i], word[i:])    for i in range(len(word) + 1)]\n",
    "    deletes    = [L + R[1:]               for L, R in splits if R]\n",
    "    transposes = [L + R[1] + R[0] + R[2:] for L, R in splits if len(R)>1]\n",
    "    replaces   = [L + c + R[1:]           for L, R in splits if R for c in letters]\n",
    "    inserts    = [L + c + R               for L, R in splits for c in letters]\n",
    "    return set(deletes + transposes + replaces + inserts)\n",
    "\n",
    "def edits2(word): \n",
    "    \"All edits that are two edits away from `word`.\"\n",
    "    return (e2 for e1 in edits1(word) for e2 in edits1(e1))"
   ]
  },
  {
   "cell_type": "markdown",
   "metadata": {},
   "source": [
    "### Evaluation metrics\n",
    "---\n",
    "** Accuracy **"
   ]
  },
  {
   "cell_type": "code",
   "execution_count": 19,
   "metadata": {
    "collapsed": true
   },
   "outputs": [],
   "source": [
    "def accuracy(actual, prediction):\n",
    "    i = 0\n",
    "    for x,y in zip(actual, prediction):\n",
    "        if x == y:\n",
    "            i = i + 1\n",
    "    return i/len(actual)  "
   ]
  },
  {
   "cell_type": "markdown",
   "metadata": {
    "collapsed": true
   },
   "source": [
    "** Precision **"
   ]
  },
  {
   "cell_type": "code",
   "execution_count": 20,
   "metadata": {
    "collapsed": true
   },
   "outputs": [],
   "source": [
    "def precision(actual, prediction):\n",
    "    i = 0\n",
    "    flat_list = [item for sublist in prediction for item in sublist]\n",
    "    for x,y in zip(actual, prediction):\n",
    "        if x in y:\n",
    "            i = i + 1\n",
    "    return i/len(flat_list)  "
   ]
  },
  {
   "cell_type": "markdown",
   "metadata": {},
   "source": [
    "** Recall **"
   ]
  },
  {
   "cell_type": "code",
   "execution_count": 21,
   "metadata": {
    "collapsed": true
   },
   "outputs": [],
   "source": [
    "def recall(actual, prediction):\n",
    "    i = 0\n",
    "    for x,y in zip(actual, prediction):\n",
    "        if x in y:\n",
    "            i = i + 1\n",
    "    return i/len(actual)  "
   ]
  },
  {
   "cell_type": "markdown",
   "metadata": {},
   "source": [
    "## Labelled Tokens\n",
    "---\n",
    "### File I/O \n",
    "- read in the dictionary\n",
    "- extract OOV tokens"
   ]
  },
  {
   "cell_type": "code",
   "execution_count": null,
   "metadata": {
    "collapsed": true
   },
   "outputs": [],
   "source": [
    "f1 = open('dict.txt')\n",
    "dict1 = []\n",
    "for line in f1:\n",
    "    words = line.split()\n",
    "    dict1.append(words[0])\n",
    "f1.close()\n",
    "\n",
    "f =  open('labelled-tokens.txt', encoding='latin-1')\n",
    "OOV = []\n",
    "IV = []\n",
    "NO = []\n",
    "correct = []\n",
    "for line in f:\n",
    "    words = line.split()\n",
    "    if words[1] != 'IV' and words[1] != 'NO':\n",
    "        if words[2] in dict1:\n",
    "            OOV.append(words[0])\n",
    "            correct.append(words[2])\n",
    "    if words[1] == 'IV':\n",
    "        IV.append(words[0])\n",
    "        #correct.append(words[2])\n",
    "    if words[1] == 'NO':\n",
    "        NO.append(words[0])\n",
    "        #correct.append(words[2])\n",
    "f.close()"
   ]
  },
  {
   "cell_type": "code",
   "execution_count": 2,
   "metadata": {},
   "outputs": [
    {
     "name": "stdout",
     "output_type": "stream",
     "text": [
      "(('comming', 'coming'), ('tomoroe', 'tomorrow'), ('dang', 'dang'), ('nd', 'and'), ('hve', 'have'), ('u', 'you'), ('ppl', 'people'), ('cuz', 'because'), ('c', 'see'), ('wat', 'what'), ('hehe', 'hehe'), ('jus', 'just'), ('iight', 'alright'), ('u', 'you'), ('soo', 'so'), ('ppl', 'people'), ('u', 'you'), ('prolly', 'probably'), ('waka', 'waka'), ('bt', 'but'), ('naw', 'no'), ('u', 'you'), ('riqht', 'right'), ('l', 'l'), ('acc', 'actually'), ('r', 'are'), ('u', 'you'), ('jus', 'just'), ('2', 'to'), ('pic', 'picture'), ('y', 'why'), ('u', 'you'), ('u', 'you'), ('u', 'you'), ('k', 'ok'), ('u', 'you'), ('rememberr', 'remember'), ('withh', 'with'), ('meh', 'me'), ('lil', 'little'), ('goood', 'good'), ('tay', 'tay'), ('m', 'am'), ('u', 'you'), ('trippn', 'tripping'), ('tnx', 'thanks'), ('birdman', 'birdman'), ('somethin', 'something'), ('t', 't'), ('tryin', 'trying'), ('fone', 'phone'), ('u', 'you'), ('r', 'are'), ('msg', 'message'), ('sayin', 'saying'), ('xi', 'xi'), ('ppl', 'people'), ('y', 'year'), ('o', 'old'), ('y', 'year'), ('o', 'old'), ('wiz', 'wiz'), ('khalifa', 'khalifa'), ('def', 'definitely'), ('jus', 'just'), ('ppl', 'people'), ('jus', 'just'), ('lil', 'little'), ('da', 'the'), ('geez', 'geez'), ('goin', 'going'), ('ly', 'ly'), ('sittin', 'sitting'), ('thinkin', 'thinking'), ('u', 'you'), ('u', 'you'), ('s', 'shout'), ('o', 'out'), ('wat', 'what'), ('u', 'you'), ('n', 'and'), ('b', 'be'), ('s', 'shout'), ('o', 'out'), ('2', 'to'), ('monsta', 'monster'), ('holdin', 'holding'), ('u', 'you'), ('wat', 'what'), ('cuz', 'because'), ('u', 'you'), ('u', 'you'), ('culd', 'could'), ('bak', 'back'), ('2', 'to'), ('skool', 'school'), ('d', 'd'), ('soemthing', 'something'), ('u', 'you'), ('2', 'too'), ('expierince', 'experience'), ('heyyyy', 'hey'), ('u', 'you'), ('ppl', 'people'), ('u', 'you'), ('w', 'with'), ('rec', 'recorder'), ('dumbbb', 'dumb'), ('withh', 'with'), ('wantin', 'wanting'), ('tuu', 'to'), ('blck', 'black'), ('fam', 'family'), ('comingg', 'coming'), ('u', 'you'), ('nothin', 'nothing'), ('u', 'you'), ('tlk', 'talk'), ('b', 'be'), ('x', 'x'), ('possesion', 'possession'), ('coult', 'could'), ('u', 'you'), ('neway', 'anyway'), ('cont', 'continued'), ('shotti', 'shotgun'), ('appearal', 'apparel'), ('w', 'with'), ('u', 'you'), ('sumtin', 'something'), ('u', 'you'), ('n', 'and'), ('4', 'for'), ('u', 'you'), ('u', 'you'), ('u', 'you'), ('u', 'you'), ('kickin', 'kicking'), ('leanin', 'leaning'), ('thinkin', 'thinking'), ('nxt', 'next'), ('n', 'in'), ('n', 'and'), ('uu', 'you'), ('bicthh', 'bitch'), ('myy', 'my'), ('s0ngg', 'song'), ('uu', 'you'), ('g0t', 'got'), ('d4t', 'that'), ('h033', 'hoe'), ('muh', 'my'), ('bedddd', 'bed'), ('wh', 'why'), ('u', 'you'), ('dat', 'that'), ('u', 'you'), ('u', 'you'), ('u', 'you'), ('hw', 'how'), ('abt', 'about'), ('dat', 'that'), ('u', 'you'), ('kno', 'know'), ('2', 'too'), ('lil', 'little'), ('u', 'you'), ('soooooo', 'so'), ('u', 'you'), ('gettin', 'getting'), ('ppl', 'people'), ('pls', 'please'), ('u', 'you'), ('mos', 'most'), ('def', 'definitely'), ('jerkk', 'jerk'), ('keepin', 'keeping'), ('thinkin', 'thinking'), ('goin', 'going'), ('u', 'you'), ('u', 'you'), ('u', 'you'), ('yah', 'your'), ('jus', 'just'), ('sittin', 'sitting'), ('dha', 'the'), ('thankin', 'thinking'), ('dese', 'these'), ('wudd', 'would'), ('jus', 'just'), ('dha', 'the'), ('aqen', 'again'), ('nuthin', 'nothing'), ('n', 'and'), ('u', 'you'), ('u', 'you'), ('supersize', 'supersize'), ('prob', 'problem'), ('cutee', 'cutie'), ('gayyyyyy', 'gay'), ('n', 'and'), ('lil', 'little'), ('dat', 'that'), ('daamn', 'damn'), ('nothin', 'nothing'), ('panocha', 'panocha'), ('ppl', 'people'), ('bcuz', 'because'), ('u', 'you'), ('wateva', 'whatever'), ('u', 'you'), ('hert', 'hurt'), ('cuz', 'because'), ('bball', 'basketball'), ('bc', 'because'), ('flirtin', 'flirting'), ('ppl', 'people'), ('u', 'you'), ('tht', 'that'), ('remeber', 'remember'), ('login', 'login'), ('u', 'you'), ('supp', 'up'), ('makin', 'making'), ('comin', 'coming'), ('c', 'see'), ('u', 'you'), ('crunk', 'crunk'), ('serios', 'serious'), ('g', 'g'), ('wack', 'wack'), ('jus', 'just'), ('r', 'are'), ('u', 'you'), ('n', 'and'), ('n', 'and'), ('lovin', 'loving'), ('bg', 'background'), ('d', 'd'), ('damnnn', 'damn'), ('u', 'you'), ('somewre', 'somewhere'), ('c', 'see'), ('u', 'you'), ('walkin', 'walking'), ('jus', 'just'), ('c', 'see'), ('u', 'you'), ('pik', 'pick'), ('n', 'and'), ('doood', 'dude'), ('w', 'with'), ('u', 'you'), ('y', 'why'), ('nvr', 'never'), ('w', 'with'), ('y', 'y'), ('u', 'you'), ('gettim', 'getting'), ('o', 'o'), ('schl', 'school'), ('sia', 'sia'), ('z', 'z'), ('pushin', 'pushing'), ('aight', 'alright'), ('u', 'you'), ('2', 'to'), ('allll', 'all'), ('2mrw', 'tomorrow'), ('jus', 'just'), ('tha', 'the'), ('cum', 'come'), ('imprv', 'improve'), ('bel', 'bel'), ('d', 'd'), ('slp', 'sleep'), ('jow', 'jow'), ('da', 'da'), ('fone', 'phone'), ('w', 'with'), ('jus', 'just'), ('leavin', 'leaving'), ('n', 'and'), ('r', 'are'), ('sweeeet', 'sweet'), ('sayin', 'saying'), ('movin', 'moving'), ('slowlyy', 'slowly'), ('b4', 'before'), ('d', 'd'), ('ohhh', 'oh'), ('u', 'you'), ('ridin', 'riding'), ('diiiiiirty', 'dirty'), ('u', 'you'), ('doin', 'doing'), ('alll', 'all'), ('s', 's'), ('shld', 'should'), ('n', 'and'), ('gettin', 'getting'), ('w', 'with'), ('bain', 'bain'), ('gud', 'good'), ('yesss', 'yes'), ('bot', 'bot'), ('u', 'you'), ('r', 'are'), ('u', 'you'), ('u', 'you'), ('d', 'd'), ('sooooooo', 'so'), ('ppl', 'people'), ('y', 'why'), ('txt', 'text'), ('bck', 'back'), ('u', 'you'), ('kno', 'know'), ('y', 'why'), ('u', 'you'), ('u', 'you'), ('da', 'the'), ('u', 'you'), ('u', 'you'), ('cont', 'continued'), ('u', 'you'), ('u', 'you'), (\"sicken'n\", 'sickening'), ('r', 'are'), ('bday', 'birthday'), ('n', 'and'), ('bday', 'birthday'), ('frm', 'from'), ('dawg', 'dog'), ('u', 'you'), ('u', 'you'), ('wknd', 'weekend'), ('mah', 'my'), ('nooooo', 'no'), ('dingleberry', 'dingleberry'), ('u', 'you'), ('s', 's'), ('playe', 'player'), ('meh', 'me'), ('tha', 'the'), ('jus', 'just'), ('tryin', 'trying'), ('da', 'the'), ('bussiness', 'business'), ('thanx', 'thanks'), ('watchinqq', 'watching'), ('moviiie', 'movie'), ('interveiw', 'interview'), ('jewlery', 'jewelry'), ('soooo', 'so'), ('p', 'p'), ('def', 'definitely'), ('wasss', 'was'), ('lodg', 'lodged'), ('u', 'you'), ('whippin', 'whipping'), ('u', 'you'), ('dieingg', 'dying'), ('byeee', 'bye'), ('dat', 'that'), ('ima', 'ima'), ('nite', 'night'), ('wx', 'weather'), ('p', 'p'), ('e', 'e'), ('tha', 'the'), ('ahhhh', 'ah'), ('crunk', 'crunk'), ('til', 'till'), ('shoppe', 'shop'), ('1', 'one'), ('4', 'for'), ('u', 'you'), ('timee', 'time'), ('auh', 'auh'), ('wata', 'what'), ('u', 'you'), ('da', 'the'), ('cont', 'continued'), ('m', 'am'), ('cont', 'continued'), ('kno', 'know'), ('boyt', 'about'), ('sumthyn', 'something'), ('cuz', 'because'), ('u', 'you'), ('u', 'you'), ('theeee', 'the'), ('enitiree', 'entire'), ('worlddd', 'world'), ('u', 'you'), ('youu', 'you'), ('walkin', 'walking'), ('walkin', 'walking'), ('edcation', 'education'), ('w', 'with'), ('u', 'you'), ('u', 'you'), ('u', 'you'), ('da', 'the'), ('hav', 'have'), ('nitee', 'night'), ('w', 'with'), ('1', 'one'), ('w', 'with'), ('ohhhh', 'oh'), ('seriouslyyyy', 'seriously'), ('u', 'you'), ('buyed', 'buy'), ('lurvv', 'love'), ('u', 'you'), ('da', 'the'), ('n', 'and'), ('u', 'you'), ('1', 'one'), ('cho', 'your'), ('slippin', 'slipping'), ('ima', 'ima'), ('u', 'you'), ('u', 'you'), ('u', 'you'), ('u', 'you'), ('wud', 'would'), ('b', 'be'), ('u', 'you'), ('neway', 'anyway'), ('msg', 'message'), ('u', 'you'), ('soo', 'so'), ('ppl', 'people'), ('talkin', 'talking'), ('hilirious', 'hilarious'), ('matress', 'mattress'), ('sooo', 'so'), ('boi', 'boy'), ('vergin', 'virgin'), ('jus', 'just'), ('plz', 'please'), ('ao', 'ao'), ('4', 'for'), ('2', 'to'), ('dy', 'dye'), ('appli', 'apply'), ('4', 'for'), ('1', 'one'), ('b', 'be'), ('wht', 'what'), ('u', 'you'), ('wasnt', 'wasnt'), ('2', 'to'), ('u', 'you'), ('ka', 'ka'), ('wat', 'what'), ('jus', 'just'), ('n', 'and'), ('jus', 'just'), ('n', 'in'), ('ppl', 'people'), ('tryin', 'trying'), ('pic', 'picture'), ('startin', 'starting'), ('gettin', 'getting'), ('u', 'you'), ('pice', 'price'), ('tomoro', 'tomorrow'), ('aquired', 'acquired'), ('u', 'you'), ('wildin', 'wilding'), ('bberry', 'blackberry'), ('goid', 'good'), ('chillin', 'chilling'), ('worrien', 'worrying'), ('nobodie', 'nobody'), ('heeyy', 'hey'), ('thnx', 'thanks'), ('p', 'p'), ('d', 'd'), ('p', 'p'), ('d', 'd'), ('mouf', 'mouth'), ('u', 'you'), ('u', 'you'), ('u', 'you'), ('nooooo', 'no'), ('tomorrowww', 'tomorrow'), ('reallllly', 'really'), ('u', 'you'), ('cont', 'continued'), ('thiknk', 'think'), ('u', 'you'), ('yeaaaa', 'yea'), ('blockin', 'blocking'), ('da', 'the'), ('ly', 'ly'), ('mobi', 'mobile'), ('yu', 'you'), ('watchin', 'watching'), ('chillin', 'chilling'), ('layin', 'laying'), ('u', 'you'), ('w', 'with'), ('wass', 'was'), ('clit', 'clitoris'), ('u', 'you'), ('u', 'you'), ('fi', 'fi'), ('anniversery', 'anniversary'), ('hw', 'homework'), ('n', 'and'), ('o', 'o'), ('mixx', 'mix'), ('u', 'you'), ('sum1', 'someone'), ('cus', 'because'), ('sum1', 'someone'), ('u', 'you'), ('phat', 'fat'), ('u', 'you'), ('u', 'you'), ('u', 'you'), ('u', 'you'), ('cuz', 'because'), ('u', 'you'), ('cum', 'come'), ('cuz', 'because'), ('u', 'you'), ('tht', 'that'), ('bn', 'been'), ('tol', 'told'), ('yhu', 'you'), ('thurr', 'there'), ('eather', 'either'), ('n', 'and'), ('n', 'and'), ('p', 'p'), ('mone', 'mone'), ('mone', 'mone'), ('doin', 'doing'), ('gutta', 'gutta'), ('hosp', 'hospital'), ('pls', 'please'), ('tht', 'that'), ('drivin', 'driving'), ('parkin', 'parking'), ('skuurrrtin', 'skirting'), ('youu', 'you'), ('himm', 'him'), ('whaat', 'what'), ('yaa', 'you'), ('u', 'you'), ('wat', 'what'), ('dat', 'that'), ('u', 'you'), ('yu', 'you'), ('jus', 'just'), ('n', 'and'), ('jus', 'just'), ('n', 'and'), ('n', 'and'), ('sooooo', 'so'), ('hotttt', 'hot'), ('weddingg', 'wedding'), ('waait', 'wait'), ('weddinqq', 'wedding'), ('amzn', 'amazing'), ('allllllllll', 'all'), ('theee', 'the'), ('d', 'd'), ('doooooooo', 'do'), ('bball', 'basketball'), ('u', 'you'), ('u', 'you'), ('u', 'you'), ('ohh', 'oh'), ('cuz', 'because'), ('nuthin', 'nothing'), ('evrybodi', 'everybody'), ('thx', 'thanks'), ('bday', 'birthday'), ('holdd', 'hold'), ('waay', 'way'), ('cann', 'can'), ('lovee', 'love'), ('himm', 'him'), ('himm', 'him'), ('whoo', 'who'), ('geez', 'geez'), ('maannnn', 'man'), ('nooo', 'no'), ('tht', 'that'), ('draggin', 'dragging'), ('u', 'you'), ('u', 'you'), ('2', 'to'), ('thx', 'thanks'), ('u', 'you'), ('u', 'you'), ('u', 'you'), ('u', 'you'), ('u', 'you'), ('u', 'you'), ('til', 'until'), ('u', 'you'), ('u', 'you'), ('u', 'you'), ('animtion', 'animation'), ('ima', 'ima'), ('tryin', 'trying'), ('soo', 'so'), ('lovin', 'loving'), ('fam', 'fam'), ('ppl', 'people'), ('sooooooo', 'so'), ('lyke', 'like'), ('sonq', 'song'), ('p', 'p'), ('somr', 'some'), ('ppl', 'people'), ('kno', 'know'), ('2', 'to'), ('sonq', 'song'), ('x', 'x'), ('cuz', 'because'), ('ghe', 'the'), ('areee', 'are'), ('u', 'u'), ('plott', 'plot'), ('tured', 'tired'), ('listenting', 'listening'), ('lookin', 'looking'), ('fiiiine', 'fine'), ('sendin', 'sending'), ('lawd', 'lord'), ('rappin', 'rapping'), ('o', 'oh'), ('rly', 'really'), ('ohh', 'oh'), ('righty', 'righty'), ('w', 'with'), ('ppl', 'people'), ('u', 'you'), ('til', 'until'), ('u', 'you'), ('1st', 'first'), ('noo', 'no'), ('qot', 'got'), ('qoin', 'going'), ('tha', 'the'), ('babyyyy', 'baby'), ('naturalll', 'natural'), ('hong', 'hong'), ('n', 'and'), ('yr', 'year'), ('exp', 'experience'), ('du', 'do'), ('da', 'the'), ('turnin', 'turning'), ('turnin', 'turning'), ('u', 'you'), ('fess', 'fess'), ('appology', 'apology'), ('u', 'you'), ('u', 'you'), ('d', 'the'), ('pls', 'please'), ('hmwrk', 'homework'), ('hmwrk', 'homework'), ('d', 'd'), ('cleaaan', 'clean'), ('wat', 'what'), ('d', 'the'), ('wkend', 'weekend'), ('ai', 'ai'), ('ouuuttt', 'out'), ('el', 'el'), ('supporet', 'support'), ('rollin', 'rolling'), ('da', 'the'), ('n', 'and'), ('c', 'c'), ('u', 'you'), ('hehe', 'hehe'), ('tonite', 'tonight'), ('d', 'd'), ('wud', 'would'), ('od', 'have'), ('dat', 'that'), ('n', 'and'), ('cont', 'continued'), ('sooo', 'so'), ('embarrased', 'embarrassed'), ('kool', 'cool'), ('ahh', 'ah'), ('watchin', 'watching'), ('u', 'you'), ('curiousity', 'curiosity'), ('u', 'you'), ('u', 'you'), ('dont', 'dont'), ('bhee', 'be'), ('eer', 'here'), ('wheeree', 'where'), ('iht', 'it'), ('bhee', 'be'), ('thaa', 'that'), ('faar', 'far'), ('yhu', 'you'), ('u', 'you'), ('tonite', 'tonight'), ('jus', 'just'), ('caz', 'because'), ('jus', 'just'), ('dey', 'they'), ('gat', 'got'), ('bro', 'brother'), ('da', 'the'), ('w', 'with'), ('ovr', 'over'), ('cmputr', 'computer'), ('u', 'you'), ('n', 'and'), ('drivin', 'driving'), ('atl', 'atlanta'), ('abt', 'about'), ('u', 'u'), ('yesssssss', 'yes'), ('bro', 'brother'), ('thiis', 'this'), ('chiick', 'chick'), ('jus', 'just'), ('saiid', 'said'), ('thiis', 'this'), ('lyk', 'like'), ('qarbaqe', 'garbage'), ('n', 'and'), ('tha', 'the'), ('biq', 'big'), ('w', 'with'), ('nooooo', 'no'), ('sincee', 'since'), ('foreevvvvverrr', 'forever'), ('x', 'x'), ('wierd', 'weird'), ('f', 'f'), ('da', 'the'), ('givin', 'giving'), ('doin', 'doing'), ('prolly', 'probably'), ('juss', 'just'), ('x', 'x'), ('bt', 'but'), ('sometimesz', 'sometimes'), ('fuun', 'fun'), ('lil', 'little'), ('usss', 'us'), ('aree', 'are'), ('z', 'z'), ('jus', 'just'), ('nah', 'no'), ('sooooo', 'so'), ('da', 'the'), ('hott', 'hot'), ('bc', 'because'), ('esp', 'especially'), ('u', 'you'), ('u', 'you'), ('u', 'you'), ('goin', 'going'), ('tomm', 'tomorrow'), ('goin', 'going'), ('bridgr', 'bridge'), ('u', 'you'), ('wat', 'what'), ('themm', 'them'), ('probley', 'probably'), ('thinkng', 'thinking'), ('pic', 'picture'), ('soooo', 'so'), ('fone', 'phone'), ('kno', 'know'), ('somethin', 'something'), ('y', 'why'), ('u', 'you'), ('u', 'you'), ('w', 'with'), ('w', 'with'), ('tard', 'retard'), ('chem', 'chemistry'), ('bio', 'biology'), ('ppl', 'people'), ('talkin', 'talking'), ('gigi', 'gigi'), ('cris', 'cris'), ('til', 'until'), ('cris', 'cris'), ('x', 'x'), ('newww', 'new'), ('sorryy', 'sorry'), ('yu', 'you'), ('industr', 'industry'), ('afta', 'after'), ('juss', 'just'), ('de', 'the'), ('otha', 'other'), ('de', 'the'), ('prolly', 'probably'), ('w', 'with'), ('n', 'and'), ('sureeeeeeeeeeeeeee', 'sure'), ('u', 'you'), ('t', 't'), ('righh', 'right'), ('tht', 'that'), ('tha', 'the'), ('roc', 'roc'), ('u', 'you'), ('nah', 'no'), ('o', 'of'), ('interestin', 'interesting'), ('nah', 'no'), ('yess', 'yes'), ('d', 'd'), ('shootin', 'shooting'), ('ppl', 'people'), ('til', 'until'), ('irrate', 'irate'), ('lil', 'little'), ('cont', 'continued'), ('0', 'hey'), ('ey', 'ey'), ('probs', 'probably'), ('o', 'o'), ('remmebner', 'remember'), ('mee', 'me'), ('k', 'k'), ('cookin', 'cooking'), ('hawtness', 'hotness'), ('thinjg', 'thing'), ('wearin', 'wearing'), ('preciate', 'appreciate'), ('u', 'you'), ('wifey', 'wife'), ('w', 'with'), ('hunni', 'honey'), ('bday', 'birthday'), ('snappin', 'snapping'), ('nw', 'now'), ('feelign', 'feeling'), ('beggin', 'begging'), ('sayin', 'saying'), ('lil', 'little'), ('w', 'with'), ('w', 'with'), ('tht', 'that'), ('thuggish', 'thuggish'), ('yu', 'you'), ('sooo', 'so'), ('ladyish', 'ladylike'), ('u', 'you'), ('doin', 'doing'), ('wrk', 'work'), ('tomarra', 'tomorrow'), ('bro', 'brother'), ('def', 'definitely'), ('lookin', 'looking'), ('dolla', 'dollar'), ('cont', 'continued'), ('plz', 'please'), ('cus', 'because'), ('tht', 'that'), ('stong', 'strong'), ('yeahh', 'yeah'), ('youu', 'you'), ('knoee', 'know'), ('tuh', 'to'), ('ppl', 'people'), ('sayin', 'saying'), ('r', 'are'), ('ntn', 'nothing'), ('ridin', 'riding'), ('xi', 'xi'), ('frm', 'from'), ('n', 'n'), ('interestng', 'interesting'), ('n', 'n'), ('aite', 'alright'), ('jus', 'just'), ('n', 'and'), ('yu', 'you'), ('sesh', 'session'), ('u', 'you'), ('y', 'why'), ('u', 'you'), ('n', 'and'), ('u', 'you'), ('n', 'and'), ('bb', 'baby'), ('sooo', 'so'), ('u', 'you'), ('exausted', 'exhausted'), ('uz', 'use'), ('yu', 'you'), ('goin', 'going'), ('bizness', 'business'), (\"thak's\", 'thanks'), ('eing', 'being'), ('hehe', 'hehe'), ('u', 'you'), ('pls', 'please'), ('ammmmmazing', 'amazing'), ('sayin', 'saying'), ('girrrrl', 'girl'), ('noooo', 'no'), ('wiff', 'with'), ('d', 'd'), ('heyyy', 'hey'), ('crazi', 'crazy'), ('cuz', 'because'), ('talkin', 'talking'), ('u', 'you'), ('da', 'the'), ('dat', 'that'), ('n', 'and'), ('u', 'you'), ('cont', 'continued'), ('knoe', 'know'), ('shoppin', 'shopping'), ('s', 's'), ('tele', 'television'), ('2marrow', 'tomorrow'), ('fo', 'for'), ('u', 'you'), ('2', 'to'), ('u', 'you'), ('lil', 'little'), ('u', 'you'), ('y', 'why'), ('y', 'why'), ('ppl', 'people'), ('2', 'to'), ('u', 'you'), ('u', 'you'), ('u', 'you'), ('nthn', 'nothing'), ('btw', 'between'), ('w', 'west'), ('w', 'with'), ('u', 'you'), ('hehe', 'hehe'), ('byeee', 'bye'), ('yu', 'you'), ('lookin', 'looking'), ('shuld', 'should'), ('yu', 'you'), ('holla', 'holler'), ('dat', 'that'), ('bb', 'blackberry'), ('goin', 'going'), ('nite', 'night'), ('youu', 'you'), ('y', 'why'), ('u', 'you'), ('hw', 'how'), ('4get', 'forget'), ('cofused', 'confused'), ('ppl', 'people'), ('u', 'you'), ('da', 'the'), ('redberry', 'redberry'), ('b4', 'before'), ('da', 'the'), ('rockin', 'rocking'), ('n', 'in'), ('skool', 'school'), ('foto', 'photo'), ('u', 'you'), ('gt', 'got'), ('inportant', 'important'), ('sumfng', 'something'), ('2', 'to'), ('2', 'to'), ('sum1', 'someone'), ('bt', 'but'), ('nt', 'not'), ('1', 'one'), ('u', 'you'), ('siging', 'singing'), ('u', 'you'), ('coz', 'because'), ('u', 'you'), ('2', 'to'), ('u', 'you'), ('sooo', 'so'), ('r', 'are'), ('u', 'you'), ('u', 'you'), ('convo', 'conversation'), ('u', 'you'), ('looooong', 'long'), ('ppl', 'people'), ('umm', 'um'), ('w', 'with'), ('tmr', 'tomorrow'), ('soooo', 'so'), ('raight', 'right'), ('r', 'are'), ('mor', 'more'), ('doin', 'doing'), ('n', 'and'), ('d', 'd'), ('puja', 'puja'), ('friiied', 'fried'), ('finge', 'finger'), ('u', 'you'), ('kissin', 'kissing'), ('coz', 'because'), ('u', 'you'), ('u', 'you'), ('cuz', 'because'), ('dat', 'that'), ('lookin', 'looking'), ('da', 'the'), ('every1', 'everyone'), ('u', 'you'), ('d', 'd'), ('liveeee', 'live'), ('cuz', 'because'), ('p', 'p'), ('u', 'you'), ('readyy', 'ready'), ('u', 'you'), ('holla', 'holler'), ('nite', 'night'), ('thanx', 'thanks'), ('4', 'for'), ('wil', 'will'), ('mis', 'miss'), ('dier', 'dier'), ('u', 'you'), ('iza', 'is'), ('ee', 'he'), ('loveeee', 'love'), ('u', 'you'), ('u', 'you'), ('uppp', 'up'), ('owerrrr', 'ow'), ('da', 'the'), ('da', 'the'), ('2', 'to'), ('kno', 'know'), ('missin', 'missing'), ('2', 'to'), ('b', 'be'), ('2day', 'today'), ('u', 'you'), ('u', 'you'), ('makeing', 'making'), ('u', 'you'), ('mic', 'mike'), ('vick', 'vick'), ('boi', 'boy'), ('thaann', 'than'), ('c', 'c'), ('o', 'o'), ('u', 'you'))\n"
     ]
    }
   ],
   "source": [
    "print(tuple(zip(OOV, correct)))"
   ]
  },
  {
   "cell_type": "markdown",
   "metadata": {},
   "source": [
    "### Remove duplicating characters in tokens"
   ]
  },
  {
   "cell_type": "code",
   "execution_count": 5,
   "metadata": {},
   "outputs": [],
   "source": [
    "OOV_no_duplicate = []\n",
    "\n",
    "for x in zip(OOV, correct):\n",
    "    if re.findall(r'((\\w)\\2{2,})', x[0]):\n",
    "#     if Counter(x[0]).most_common(1)[0][1] >= 3: # min 3 duplicates\n",
    "        OOV_no_duplicate.append(''.join(sorted(set(x[0]), key = x[0].index)))     \n",
    "    else:\n",
    "        OOV_no_duplicate.append(x[0])    "
   ]
  },
  {
   "cell_type": "code",
   "execution_count": 6,
   "metadata": {},
   "outputs": [
    {
     "name": "stdout",
     "output_type": "stream",
     "text": [
      "(('comming', 'coming'), ('tomoroe', 'tomorrow'), ('dang', 'dang'), ('nd', 'and'), ('hve', 'have'), ('u', 'you'), ('ppl', 'people'), ('cuz', 'because'), ('c', 'see'), ('wat', 'what'), ('hehe', 'hehe'), ('jus', 'just'), ('iight', 'alright'), ('u', 'you'), ('soo', 'so'), ('ppl', 'people'), ('u', 'you'), ('prolly', 'probably'), ('waka', 'waka'), ('bt', 'but'), ('naw', 'no'), ('u', 'you'), ('riqht', 'right'), ('l', 'l'), ('acc', 'actually'), ('r', 'are'), ('u', 'you'), ('jus', 'just'), ('2', 'to'), ('pic', 'picture'), ('y', 'why'), ('u', 'you'), ('u', 'you'), ('u', 'you'), ('k', 'ok'), ('u', 'you'), ('rememberr', 'remember'), ('withh', 'with'), ('meh', 'me'), ('lil', 'little'), ('god', 'good'), ('tay', 'tay'), ('m', 'am'), ('u', 'you'), ('trippn', 'tripping'), ('tnx', 'thanks'), ('birdman', 'birdman'), ('somethin', 'something'), ('t', 't'), ('tryin', 'trying'), ('fone', 'phone'), ('u', 'you'), ('r', 'are'), ('msg', 'message'), ('sayin', 'saying'), ('xi', 'xi'), ('ppl', 'people'), ('y', 'year'), ('o', 'old'), ('y', 'year'), ('o', 'old'), ('wiz', 'wiz'), ('khalifa', 'khalifa'), ('def', 'definitely'), ('jus', 'just'), ('ppl', 'people'), ('jus', 'just'), ('lil', 'little'), ('da', 'the'), ('geez', 'geez'), ('goin', 'going'), ('ly', 'ly'), ('sittin', 'sitting'), ('thinkin', 'thinking'), ('u', 'you'), ('u', 'you'), ('s', 'shout'), ('o', 'out'), ('wat', 'what'), ('u', 'you'), ('n', 'and'), ('b', 'be'), ('s', 'shout'), ('o', 'out'), ('2', 'to'), ('monsta', 'monster'), ('holdin', 'holding'), ('u', 'you'), ('wat', 'what'), ('cuz', 'because'), ('u', 'you'), ('u', 'you'), ('culd', 'could'), ('bak', 'back'), ('2', 'to'), ('skool', 'school'), ('d', 'd'), ('soemthing', 'something'), ('u', 'you'), ('2', 'too'), ('expierince', 'experience'), ('hey', 'hey'), ('u', 'you'), ('ppl', 'people'), ('u', 'you'), ('w', 'with'), ('rec', 'recorder'), ('dumb', 'dumb'), ('withh', 'with'), ('wantin', 'wanting'), ('tuu', 'to'), ('blck', 'black'), ('fam', 'family'), ('comingg', 'coming'), ('u', 'you'), ('nothin', 'nothing'), ('u', 'you'), ('tlk', 'talk'), ('b', 'be'), ('x', 'x'), ('possesion', 'possession'), ('coult', 'could'), ('u', 'you'), ('neway', 'anyway'), ('cont', 'continued'), ('shotti', 'shotgun'), ('appearal', 'apparel'), ('w', 'with'), ('u', 'you'), ('sumtin', 'something'), ('u', 'you'), ('n', 'and'), ('4', 'for'), ('u', 'you'), ('u', 'you'), ('u', 'you'), ('u', 'you'), ('kickin', 'kicking'), ('leanin', 'leaning'), ('thinkin', 'thinking'), ('nxt', 'next'), ('n', 'in'), ('n', 'and'), ('uu', 'you'), ('bicthh', 'bitch'), ('myy', 'my'), ('s0ngg', 'song'), ('uu', 'you'), ('g0t', 'got'), ('d4t', 'that'), ('h033', 'hoe'), ('muh', 'my'), ('bed', 'bed'), ('wh', 'why'), ('u', 'you'), ('dat', 'that'), ('u', 'you'), ('u', 'you'), ('u', 'you'), ('hw', 'how'), ('abt', 'about'), ('dat', 'that'), ('u', 'you'), ('kno', 'know'), ('2', 'too'), ('lil', 'little'), ('u', 'you'), ('so', 'so'), ('u', 'you'), ('gettin', 'getting'), ('ppl', 'people'), ('pls', 'please'), ('u', 'you'), ('mos', 'most'), ('def', 'definitely'), ('jerkk', 'jerk'), ('keepin', 'keeping'), ('thinkin', 'thinking'), ('goin', 'going'), ('u', 'you'), ('u', 'you'), ('u', 'you'), ('yah', 'your'), ('jus', 'just'), ('sittin', 'sitting'), ('dha', 'the'), ('thankin', 'thinking'), ('dese', 'these'), ('wudd', 'would'), ('jus', 'just'), ('dha', 'the'), ('aqen', 'again'), ('nuthin', 'nothing'), ('n', 'and'), ('u', 'you'), ('u', 'you'), ('supersize', 'supersize'), ('prob', 'problem'), ('cutee', 'cutie'), ('gay', 'gay'), ('n', 'and'), ('lil', 'little'), ('dat', 'that'), ('daamn', 'damn'), ('nothin', 'nothing'), ('panocha', 'panocha'), ('ppl', 'people'), ('bcuz', 'because'), ('u', 'you'), ('wateva', 'whatever'), ('u', 'you'), ('hert', 'hurt'), ('cuz', 'because'), ('bball', 'basketball'), ('bc', 'because'), ('flirtin', 'flirting'), ('ppl', 'people'), ('u', 'you'), ('tht', 'that'), ('remeber', 'remember'), ('login', 'login'), ('u', 'you'), ('supp', 'up'), ('makin', 'making'), ('comin', 'coming'), ('c', 'see'), ('u', 'you'), ('crunk', 'crunk'), ('serios', 'serious'), ('g', 'g'), ('wack', 'wack'), ('jus', 'just'), ('r', 'are'), ('u', 'you'), ('n', 'and'), ('n', 'and'), ('lovin', 'loving'), ('bg', 'background'), ('d', 'd'), ('damn', 'damn'), ('u', 'you'), ('somewre', 'somewhere'), ('c', 'see'), ('u', 'you'), ('walkin', 'walking'), ('jus', 'just'), ('c', 'see'), ('u', 'you'), ('pik', 'pick'), ('n', 'and'), ('do', 'dude'), ('w', 'with'), ('u', 'you'), ('y', 'why'), ('nvr', 'never'), ('w', 'with'), ('y', 'y'), ('u', 'you'), ('gettim', 'getting'), ('o', 'o'), ('schl', 'school'), ('sia', 'sia'), ('z', 'z'), ('pushin', 'pushing'), ('aight', 'alright'), ('u', 'you'), ('2', 'to'), ('al', 'all'), ('2mrw', 'tomorrow'), ('jus', 'just'), ('tha', 'the'), ('cum', 'come'), ('imprv', 'improve'), ('bel', 'bel'), ('d', 'd'), ('slp', 'sleep'), ('jow', 'jow'), ('da', 'da'), ('fone', 'phone'), ('w', 'with'), ('jus', 'just'), ('leavin', 'leaving'), ('n', 'and'), ('r', 'are'), ('swet', 'sweet'), ('sayin', 'saying'), ('movin', 'moving'), ('slowlyy', 'slowly'), ('b4', 'before'), ('d', 'd'), ('oh', 'oh'), ('u', 'you'), ('ridin', 'riding'), ('dirty', 'dirty'), ('u', 'you'), ('doin', 'doing'), ('al', 'all'), ('s', 's'), ('shld', 'should'), ('n', 'and'), ('gettin', 'getting'), ('w', 'with'), ('bain', 'bain'), ('gud', 'good'), ('yes', 'yes'), ('bot', 'bot'), ('u', 'you'), ('r', 'are'), ('u', 'you'), ('u', 'you'), ('d', 'd'), ('so', 'so'), ('ppl', 'people'), ('y', 'why'), ('txt', 'text'), ('bck', 'back'), ('u', 'you'), ('kno', 'know'), ('y', 'why'), ('u', 'you'), ('u', 'you'), ('da', 'the'), ('u', 'you'), ('u', 'you'), ('cont', 'continued'), ('u', 'you'), ('u', 'you'), (\"sicken'n\", 'sickening'), ('r', 'are'), ('bday', 'birthday'), ('n', 'and'), ('bday', 'birthday'), ('frm', 'from'), ('dawg', 'dog'), ('u', 'you'), ('u', 'you'), ('wknd', 'weekend'), ('mah', 'my'), ('no', 'no'), ('dingleberry', 'dingleberry'), ('u', 'you'), ('s', 's'), ('playe', 'player'), ('meh', 'me'), ('tha', 'the'), ('jus', 'just'), ('tryin', 'trying'), ('da', 'the'), ('bussiness', 'business'), ('thanx', 'thanks'), ('watchinqq', 'watching'), ('movie', 'movie'), ('interveiw', 'interview'), ('jewlery', 'jewelry'), ('so', 'so'), ('p', 'p'), ('def', 'definitely'), ('was', 'was'), ('lodg', 'lodged'), ('u', 'you'), ('whippin', 'whipping'), ('u', 'you'), ('dieingg', 'dying'), ('bye', 'bye'), ('dat', 'that'), ('ima', 'ima'), ('nite', 'night'), ('wx', 'weather'), ('p', 'p'), ('e', 'e'), ('tha', 'the'), ('ah', 'ah'), ('crunk', 'crunk'), ('til', 'till'), ('shoppe', 'shop'), ('1', 'one'), ('4', 'for'), ('u', 'you'), ('timee', 'time'), ('auh', 'auh'), ('wata', 'what'), ('u', 'you'), ('da', 'the'), ('cont', 'continued'), ('m', 'am'), ('cont', 'continued'), ('kno', 'know'), ('boyt', 'about'), ('sumthyn', 'something'), ('cuz', 'because'), ('u', 'you'), ('u', 'you'), ('the', 'the'), ('enitiree', 'entire'), ('world', 'world'), ('u', 'you'), ('youu', 'you'), ('walkin', 'walking'), ('walkin', 'walking'), ('edcation', 'education'), ('w', 'with'), ('u', 'you'), ('u', 'you'), ('u', 'you'), ('da', 'the'), ('hav', 'have'), ('nitee', 'night'), ('w', 'with'), ('1', 'one'), ('w', 'with'), ('oh', 'oh'), ('seriouly', 'seriously'), ('u', 'you'), ('buyed', 'buy'), ('lurvv', 'love'), ('u', 'you'), ('da', 'the'), ('n', 'and'), ('u', 'you'), ('1', 'one'), ('cho', 'your'), ('slippin', 'slipping'), ('ima', 'ima'), ('u', 'you'), ('u', 'you'), ('u', 'you'), ('u', 'you'), ('wud', 'would'), ('b', 'be'), ('u', 'you'), ('neway', 'anyway'), ('msg', 'message'), ('u', 'you'), ('soo', 'so'), ('ppl', 'people'), ('talkin', 'talking'), ('hilirious', 'hilarious'), ('matress', 'mattress'), ('so', 'so'), ('boi', 'boy'), ('vergin', 'virgin'), ('jus', 'just'), ('plz', 'please'), ('ao', 'ao'), ('4', 'for'), ('2', 'to'), ('dy', 'dye'), ('appli', 'apply'), ('4', 'for'), ('1', 'one'), ('b', 'be'), ('wht', 'what'), ('u', 'you'), ('wasnt', 'wasnt'), ('2', 'to'), ('u', 'you'), ('ka', 'ka'), ('wat', 'what'), ('jus', 'just'), ('n', 'and'), ('jus', 'just'), ('n', 'in'), ('ppl', 'people'), ('tryin', 'trying'), ('pic', 'picture'), ('startin', 'starting'), ('gettin', 'getting'), ('u', 'you'), ('pice', 'price'), ('tomoro', 'tomorrow'), ('aquired', 'acquired'), ('u', 'you'), ('wildin', 'wilding'), ('bberry', 'blackberry'), ('goid', 'good'), ('chillin', 'chilling'), ('worrien', 'worrying'), ('nobodie', 'nobody'), ('heeyy', 'hey'), ('thnx', 'thanks'), ('p', 'p'), ('d', 'd'), ('p', 'p'), ('d', 'd'), ('mouf', 'mouth'), ('u', 'you'), ('u', 'you'), ('u', 'you'), ('no', 'no'), ('tomrw', 'tomorrow'), ('realy', 'really'), ('u', 'you'), ('cont', 'continued'), ('thiknk', 'think'), ('u', 'you'), ('yea', 'yea'), ('blockin', 'blocking'), ('da', 'the'), ('ly', 'ly'), ('mobi', 'mobile'), ('yu', 'you'), ('watchin', 'watching'), ('chillin', 'chilling'), ('layin', 'laying'), ('u', 'you'), ('w', 'with'), ('wass', 'was'), ('clit', 'clitoris'), ('u', 'you'), ('u', 'you'), ('fi', 'fi'), ('anniversery', 'anniversary'), ('hw', 'homework'), ('n', 'and'), ('o', 'o'), ('mixx', 'mix'), ('u', 'you'), ('sum1', 'someone'), ('cus', 'because'), ('sum1', 'someone'), ('u', 'you'), ('phat', 'fat'), ('u', 'you'), ('u', 'you'), ('u', 'you'), ('u', 'you'), ('cuz', 'because'), ('u', 'you'), ('cum', 'come'), ('cuz', 'because'), ('u', 'you'), ('tht', 'that'), ('bn', 'been'), ('tol', 'told'), ('yhu', 'you'), ('thurr', 'there'), ('eather', 'either'), ('n', 'and'), ('n', 'and'), ('p', 'p'), ('mone', 'mone'), ('mone', 'mone'), ('doin', 'doing'), ('gutta', 'gutta'), ('hosp', 'hospital'), ('pls', 'please'), ('tht', 'that'), ('drivin', 'driving'), ('parkin', 'parking'), ('skurtin', 'skirting'), ('youu', 'you'), ('himm', 'him'), ('whaat', 'what'), ('yaa', 'you'), ('u', 'you'), ('wat', 'what'), ('dat', 'that'), ('u', 'you'), ('yu', 'you'), ('jus', 'just'), ('n', 'and'), ('jus', 'just'), ('n', 'and'), ('n', 'and'), ('so', 'so'), ('hot', 'hot'), ('weddingg', 'wedding'), ('waait', 'wait'), ('weddinqq', 'wedding'), ('amzn', 'amazing'), ('al', 'all'), ('the', 'the'), ('d', 'd'), ('do', 'do'), ('bball', 'basketball'), ('u', 'you'), ('u', 'you'), ('u', 'you'), ('ohh', 'oh'), ('cuz', 'because'), ('nuthin', 'nothing'), ('evrybodi', 'everybody'), ('thx', 'thanks'), ('bday', 'birthday'), ('holdd', 'hold'), ('waay', 'way'), ('cann', 'can'), ('lovee', 'love'), ('himm', 'him'), ('himm', 'him'), ('whoo', 'who'), ('geez', 'geez'), ('man', 'man'), ('no', 'no'), ('tht', 'that'), ('draggin', 'dragging'), ('u', 'you'), ('u', 'you'), ('2', 'to'), ('thx', 'thanks'), ('u', 'you'), ('u', 'you'), ('u', 'you'), ('u', 'you'), ('u', 'you'), ('u', 'you'), ('til', 'until'), ('u', 'you'), ('u', 'you'), ('u', 'you'), ('animtion', 'animation'), ('ima', 'ima'), ('tryin', 'trying'), ('soo', 'so'), ('lovin', 'loving'), ('fam', 'fam'), ('ppl', 'people'), ('so', 'so'), ('lyke', 'like'), ('sonq', 'song'), ('p', 'p'), ('somr', 'some'), ('ppl', 'people'), ('kno', 'know'), ('2', 'to'), ('sonq', 'song'), ('x', 'x'), ('cuz', 'because'), ('ghe', 'the'), ('are', 'are'), ('u', 'u'), ('plott', 'plot'), ('tured', 'tired'), ('listenting', 'listening'), ('lookin', 'looking'), ('fine', 'fine'), ('sendin', 'sending'), ('lawd', 'lord'), ('rappin', 'rapping'), ('o', 'oh'), ('rly', 'really'), ('ohh', 'oh'), ('righty', 'righty'), ('w', 'with'), ('ppl', 'people'), ('u', 'you'), ('til', 'until'), ('u', 'you'), ('1st', 'first'), ('noo', 'no'), ('qot', 'got'), ('qoin', 'going'), ('tha', 'the'), ('bay', 'baby'), ('naturl', 'natural'), ('hong', 'hong'), ('n', 'and'), ('yr', 'year'), ('exp', 'experience'), ('du', 'do'), ('da', 'the'), ('turnin', 'turning'), ('turnin', 'turning'), ('u', 'you'), ('fess', 'fess'), ('appology', 'apology'), ('u', 'you'), ('u', 'you'), ('d', 'the'), ('pls', 'please'), ('hmwrk', 'homework'), ('hmwrk', 'homework'), ('d', 'd'), ('clean', 'clean'), ('wat', 'what'), ('d', 'the'), ('wkend', 'weekend'), ('ai', 'ai'), ('out', 'out'), ('el', 'el'), ('supporet', 'support'), ('rollin', 'rolling'), ('da', 'the'), ('n', 'and'), ('c', 'c'), ('u', 'you'), ('hehe', 'hehe'), ('tonite', 'tonight'), ('d', 'd'), ('wud', 'would'), ('od', 'have'), ('dat', 'that'), ('n', 'and'), ('cont', 'continued'), ('so', 'so'), ('embarrased', 'embarrassed'), ('kool', 'cool'), ('ahh', 'ah'), ('watchin', 'watching'), ('u', 'you'), ('curiousity', 'curiosity'), ('u', 'you'), ('u', 'you'), ('dont', 'dont'), ('bhee', 'be'), ('eer', 'here'), ('wheeree', 'where'), ('iht', 'it'), ('bhee', 'be'), ('thaa', 'that'), ('faar', 'far'), ('yhu', 'you'), ('u', 'you'), ('tonite', 'tonight'), ('jus', 'just'), ('caz', 'because'), ('jus', 'just'), ('dey', 'they'), ('gat', 'got'), ('bro', 'brother'), ('da', 'the'), ('w', 'with'), ('ovr', 'over'), ('cmputr', 'computer'), ('u', 'you'), ('n', 'and'), ('drivin', 'driving'), ('atl', 'atlanta'), ('abt', 'about'), ('u', 'u'), ('yes', 'yes'), ('bro', 'brother'), ('thiis', 'this'), ('chiick', 'chick'), ('jus', 'just'), ('saiid', 'said'), ('thiis', 'this'), ('lyk', 'like'), ('qarbaqe', 'garbage'), ('n', 'and'), ('tha', 'the'), ('biq', 'big'), ('w', 'with'), ('no', 'no'), ('sincee', 'since'), ('forev', 'forever'), ('x', 'x'), ('wierd', 'weird'), ('f', 'f'), ('da', 'the'), ('givin', 'giving'), ('doin', 'doing'), ('prolly', 'probably'), ('juss', 'just'), ('x', 'x'), ('bt', 'but'), ('sometimesz', 'sometimes'), ('fuun', 'fun'), ('lil', 'little'), ('us', 'us'), ('aree', 'are'), ('z', 'z'), ('jus', 'just'), ('nah', 'no'), ('so', 'so'), ('da', 'the'), ('hott', 'hot'), ('bc', 'because'), ('esp', 'especially'), ('u', 'you'), ('u', 'you'), ('u', 'you'), ('goin', 'going'), ('tomm', 'tomorrow'), ('goin', 'going'), ('bridgr', 'bridge'), ('u', 'you'), ('wat', 'what'), ('themm', 'them'), ('probley', 'probably'), ('thinkng', 'thinking'), ('pic', 'picture'), ('so', 'so'), ('fone', 'phone'), ('kno', 'know'), ('somethin', 'something'), ('y', 'why'), ('u', 'you'), ('u', 'you'), ('w', 'with'), ('w', 'with'), ('tard', 'retard'), ('chem', 'chemistry'), ('bio', 'biology'), ('ppl', 'people'), ('talkin', 'talking'), ('gigi', 'gigi'), ('cris', 'cris'), ('til', 'until'), ('cris', 'cris'), ('x', 'x'), ('new', 'new'), ('sorryy', 'sorry'), ('yu', 'you'), ('industr', 'industry'), ('afta', 'after'), ('juss', 'just'), ('de', 'the'), ('otha', 'other'), ('de', 'the'), ('prolly', 'probably'), ('w', 'with'), ('n', 'and'), ('sure', 'sure'), ('u', 'you'), ('t', 't'), ('righh', 'right'), ('tht', 'that'), ('tha', 'the'), ('roc', 'roc'), ('u', 'you'), ('nah', 'no'), ('o', 'of'), ('interestin', 'interesting'), ('nah', 'no'), ('yess', 'yes'), ('d', 'd'), ('shootin', 'shooting'), ('ppl', 'people'), ('til', 'until'), ('irrate', 'irate'), ('lil', 'little'), ('cont', 'continued'), ('0', 'hey'), ('ey', 'ey'), ('probs', 'probably'), ('o', 'o'), ('remmebner', 'remember'), ('mee', 'me'), ('k', 'k'), ('cookin', 'cooking'), ('hawtness', 'hotness'), ('thinjg', 'thing'), ('wearin', 'wearing'), ('preciate', 'appreciate'), ('u', 'you'), ('wifey', 'wife'), ('w', 'with'), ('hunni', 'honey'), ('bday', 'birthday'), ('snappin', 'snapping'), ('nw', 'now'), ('feelign', 'feeling'), ('beggin', 'begging'), ('sayin', 'saying'), ('lil', 'little'), ('w', 'with'), ('w', 'with'), ('tht', 'that'), ('thuggish', 'thuggish'), ('yu', 'you'), ('so', 'so'), ('ladyish', 'ladylike'), ('u', 'you'), ('doin', 'doing'), ('wrk', 'work'), ('tomarra', 'tomorrow'), ('bro', 'brother'), ('def', 'definitely'), ('lookin', 'looking'), ('dolla', 'dollar'), ('cont', 'continued'), ('plz', 'please'), ('cus', 'because'), ('tht', 'that'), ('stong', 'strong'), ('yeahh', 'yeah'), ('youu', 'you'), ('knoee', 'know'), ('tuh', 'to'), ('ppl', 'people'), ('sayin', 'saying'), ('r', 'are'), ('ntn', 'nothing'), ('ridin', 'riding'), ('xi', 'xi'), ('frm', 'from'), ('n', 'n'), ('interestng', 'interesting'), ('n', 'n'), ('aite', 'alright'), ('jus', 'just'), ('n', 'and'), ('yu', 'you'), ('sesh', 'session'), ('u', 'you'), ('y', 'why'), ('u', 'you'), ('n', 'and'), ('u', 'you'), ('n', 'and'), ('bb', 'baby'), ('so', 'so'), ('u', 'you'), ('exausted', 'exhausted'), ('uz', 'use'), ('yu', 'you'), ('goin', 'going'), ('bizness', 'business'), (\"thak's\", 'thanks'), ('eing', 'being'), ('hehe', 'hehe'), ('u', 'you'), ('pls', 'please'), ('amzing', 'amazing'), ('sayin', 'saying'), ('girl', 'girl'), ('no', 'no'), ('wiff', 'with'), ('d', 'd'), ('hey', 'hey'), ('crazi', 'crazy'), ('cuz', 'because'), ('talkin', 'talking'), ('u', 'you'), ('da', 'the'), ('dat', 'that'), ('n', 'and'), ('u', 'you'), ('cont', 'continued'), ('knoe', 'know'), ('shoppin', 'shopping'), ('s', 's'), ('tele', 'television'), ('2marrow', 'tomorrow'), ('fo', 'for'), ('u', 'you'), ('2', 'to'), ('u', 'you'), ('lil', 'little'), ('u', 'you'), ('y', 'why'), ('y', 'why'), ('ppl', 'people'), ('2', 'to'), ('u', 'you'), ('u', 'you'), ('u', 'you'), ('nthn', 'nothing'), ('btw', 'between'), ('w', 'west'), ('w', 'with'), ('u', 'you'), ('hehe', 'hehe'), ('bye', 'bye'), ('yu', 'you'), ('lookin', 'looking'), ('shuld', 'should'), ('yu', 'you'), ('holla', 'holler'), ('dat', 'that'), ('bb', 'blackberry'), ('goin', 'going'), ('nite', 'night'), ('youu', 'you'), ('y', 'why'), ('u', 'you'), ('hw', 'how'), ('4get', 'forget'), ('cofused', 'confused'), ('ppl', 'people'), ('u', 'you'), ('da', 'the'), ('redberry', 'redberry'), ('b4', 'before'), ('da', 'the'), ('rockin', 'rocking'), ('n', 'in'), ('skool', 'school'), ('foto', 'photo'), ('u', 'you'), ('gt', 'got'), ('inportant', 'important'), ('sumfng', 'something'), ('2', 'to'), ('2', 'to'), ('sum1', 'someone'), ('bt', 'but'), ('nt', 'not'), ('1', 'one'), ('u', 'you'), ('siging', 'singing'), ('u', 'you'), ('coz', 'because'), ('u', 'you'), ('2', 'to'), ('u', 'you'), ('so', 'so'), ('r', 'are'), ('u', 'you'), ('u', 'you'), ('convo', 'conversation'), ('u', 'you'), ('long', 'long'), ('ppl', 'people'), ('umm', 'um'), ('w', 'with'), ('tmr', 'tomorrow'), ('so', 'so'), ('raight', 'right'), ('r', 'are'), ('mor', 'more'), ('doin', 'doing'), ('n', 'and'), ('d', 'd'), ('puja', 'puja'), ('fried', 'fried'), ('finge', 'finger'), ('u', 'you'), ('kissin', 'kissing'), ('coz', 'because'), ('u', 'you'), ('u', 'you'), ('cuz', 'because'), ('dat', 'that'), ('lookin', 'looking'), ('da', 'the'), ('every1', 'everyone'), ('u', 'you'), ('d', 'd'), ('live', 'live'), ('cuz', 'because'), ('p', 'p'), ('u', 'you'), ('readyy', 'ready'), ('u', 'you'), ('holla', 'holler'), ('nite', 'night'), ('thanx', 'thanks'), ('4', 'for'), ('wil', 'will'), ('mis', 'miss'), ('dier', 'dier'), ('u', 'you'), ('iza', 'is'), ('ee', 'he'), ('love', 'love'), ('u', 'you'), ('u', 'you'), ('up', 'up'), ('ower', 'ow'), ('da', 'the'), ('da', 'the'), ('2', 'to'), ('kno', 'know'), ('missin', 'missing'), ('2', 'to'), ('b', 'be'), ('2day', 'today'), ('u', 'you'), ('u', 'you'), ('makeing', 'making'), ('u', 'you'), ('mic', 'mike'), ('vick', 'vick'), ('boi', 'boy'), ('thaann', 'than'), ('c', 'c'), ('o', 'o'), ('u', 'you'))\n"
     ]
    }
   ],
   "source": [
    "print(tuple(zip(OOV_no_duplicate, correct)))"
   ]
  },
  {
   "cell_type": "markdown",
   "metadata": {},
   "source": [
    "### Remove tokens contain numbers"
   ]
  },
  {
   "cell_type": "code",
   "execution_count": 46,
   "metadata": {
    "collapsed": true
   },
   "outputs": [],
   "source": [
    "OOV_no_number = []\n",
    "correct_no_number = []\n",
    "for x in zip(OOV, correct):\n",
    "    if any(i.isdigit() for i in x[0]):\n",
    "        continue\n",
    "    else:\n",
    "        OOV_no_number.append(x[0])\n",
    "        correct_no_number.append(x[1])"
   ]
  },
  {
   "cell_type": "markdown",
   "metadata": {},
   "source": [
    "### Frequency distribution of OOV tokens"
   ]
  },
  {
   "cell_type": "code",
   "execution_count": 483,
   "metadata": {},
   "outputs": [
    {
     "name": "stdout",
     "output_type": "stream",
     "text": [
      "[('u', 184), ('n', 35), ('w', 22), ('jus', 21), ('ppl', 20), ('da', 19), ('2', 17), ('d', 16), ('so', 13), ('y', 12), ('cuz', 11), ('o', 10), ('r', 9), ('cont', 9), ('dat', 9), ('lil', 8), ('yu', 8), ('wat', 7), ('tht', 7), ('p', 7), ('c', 6), ('goin', 6), ('kno', 6), ('tha', 6), ('sayin', 5), ('s', 5), ('b', 5), ('x', 5), ('4', 5), ('doin', 5), ('no', 5), ('til', 5), ('1', 5), ('hehe', 4), ('tryin', 4), ('def', 4), ('pls', 4), ('bday', 4), ('youu', 4), ('lookin', 4), ('soo', 3), ('prolly', 3), ('bt', 3), ('pic', 3), ('fone', 3), ('thinkin', 3), ('hw', 3), ('gettin', 3), ('walkin', 3), ('al', 3), ('ima', 3), ('nite', 3), ('talkin', 3), ('sum1', 3), ('himm', 3), ('bro', 3), ('nah', 3), ('k', 2), ('withh', 2), ('meh', 2), ('m', 2), ('somethin', 2), ('t', 2), ('msg', 2), ('xi', 2), ('geez', 2), ('ly', 2), ('sittin', 2), ('skool', 2), ('hey', 2), ('fam', 2), ('nothin', 2), ('neway', 2), ('uu', 2), ('abt', 2), ('dha', 2), ('nuthin', 2), ('bball', 2), ('bc', 2), ('crunk', 2), ('lovin', 2), ('do', 2), ('z', 2), ('cum', 2), ('b4', 2), ('oh', 2), ('ridin', 2), ('yes', 2), ('frm', 2), ('thanx', 2), ('bye', 2), ('the', 2), ('wud', 2), ('boi', 2), ('plz', 2), ('chillin', 2), ('watchin', 2), ('cus', 2), ('yhu', 2), ('mone', 2), ('drivin', 2), ('ohh', 2), ('thx', 2), ('sonq', 2), ('turnin', 2), ('hmwrk', 2), ('tonite', 2), ('bhee', 2), ('thiis', 2), ('juss', 2), ('cris', 2), ('de', 2), ('bb', 2), ('holla', 2), ('coz', 2), ('comming', 1), ('tomoroe', 1), ('dang', 1), ('nd', 1), ('hve', 1), ('iight', 1), ('waka', 1), ('naw', 1), ('riqht', 1), ('l', 1), ('acc', 1), ('rememberr', 1), ('god', 1), ('tay', 1), ('trippn', 1), ('tnx', 1), ('birdman', 1), ('wiz', 1), ('khalifa', 1), ('monsta', 1), ('holdin', 1), ('culd', 1), ('bak', 1), ('soemthing', 1), ('expierince', 1), ('rec', 1), ('dumb', 1), ('wantin', 1), ('tuu', 1), ('blck', 1), ('comingg', 1), ('tlk', 1), ('possesion', 1), ('coult', 1), ('shotti', 1), ('appearal', 1), ('sumtin', 1), ('kickin', 1), ('leanin', 1), ('nxt', 1), ('bicthh', 1), ('myy', 1), ('s0ngg', 1), ('g0t', 1), ('d4t', 1), ('h033', 1), ('muh', 1), ('bed', 1), ('wh', 1), ('mos', 1), ('jerkk', 1), ('keepin', 1), ('yah', 1), ('thankin', 1), ('dese', 1), ('wudd', 1), ('aqen', 1), ('supersize', 1), ('prob', 1), ('cutee', 1), ('gay', 1), ('daamn', 1), ('panocha', 1), ('bcuz', 1), ('wateva', 1), ('hert', 1), ('flirtin', 1), ('remeber', 1), ('login', 1), ('supp', 1), ('makin', 1), ('comin', 1), ('serios', 1), ('g', 1), ('wack', 1), ('bg', 1), ('damn', 1), ('somewre', 1), ('pik', 1), ('nvr', 1), ('gettim', 1), ('schl', 1), ('sia', 1), ('pushin', 1), ('aight', 1), ('2mrw', 1), ('imprv', 1), ('bel', 1), ('slp', 1), ('jow', 1), ('leavin', 1), ('swet', 1), ('movin', 1), ('slowlyy', 1), ('dirty', 1), ('shld', 1), ('bain', 1), ('gud', 1), ('bot', 1), ('txt', 1), ('bck', 1), (\"sicken'n\", 1), ('dawg', 1), ('wknd', 1), ('mah', 1), ('dingleberry', 1), ('playe', 1), ('bussiness', 1), ('watchinqq', 1), ('movie', 1), ('interveiw', 1), ('jewlery', 1), ('was', 1), ('lodg', 1), ('whippin', 1), ('dieingg', 1), ('wx', 1), ('e', 1), ('ah', 1), ('shoppe', 1), ('timee', 1), ('auh', 1), ('wata', 1), ('boyt', 1), ('sumthyn', 1), ('enitiree', 1), ('world', 1), ('edcation', 1), ('hav', 1), ('nitee', 1), ('seriouly', 1), ('buyed', 1), ('lurvv', 1), ('cho', 1), ('slippin', 1), ('hilirious', 1), ('matress', 1), ('vergin', 1), ('ao', 1), ('dy', 1), ('appli', 1), ('wht', 1), ('wasnt', 1), ('ka', 1), ('startin', 1), ('pice', 1), ('tomoro', 1), ('aquired', 1), ('wildin', 1), ('bberry', 1), ('goid', 1), ('worrien', 1), ('nobodie', 1), ('heeyy', 1), ('thnx', 1), ('mouf', 1), ('tomrw', 1), ('realy', 1), ('thiknk', 1), ('yea', 1), ('blockin', 1), ('mobi', 1), ('layin', 1), ('wass', 1), ('clit', 1), ('fi', 1), ('anniversery', 1), ('mixx', 1), ('phat', 1), ('bn', 1), ('tol', 1), ('thurr', 1), ('eather', 1), ('gutta', 1), ('hosp', 1), ('parkin', 1), ('skurtin', 1), ('whaat', 1), ('yaa', 1), ('hot', 1), ('weddingg', 1), ('waait', 1), ('weddinqq', 1), ('amzn', 1), ('evrybodi', 1), ('holdd', 1), ('waay', 1), ('cann', 1), ('lovee', 1), ('whoo', 1), ('man', 1), ('draggin', 1), ('animtion', 1), ('lyke', 1), ('somr', 1), ('ghe', 1), ('are', 1), ('plott', 1), ('tured', 1), ('listenting', 1), ('fine', 1), ('sendin', 1), ('lawd', 1), ('rappin', 1), ('rly', 1), ('righty', 1), ('1st', 1), ('noo', 1), ('qot', 1), ('qoin', 1), ('bay', 1), ('naturl', 1), ('hong', 1), ('yr', 1), ('exp', 1), ('du', 1), ('fess', 1), ('appology', 1), ('clean', 1), ('wkend', 1), ('ai', 1), ('out', 1), ('el', 1), ('supporet', 1), ('rollin', 1), ('od', 1), ('embarrased', 1), ('kool', 1), ('ahh', 1), ('curiousity', 1), ('dont', 1), ('eer', 1), ('wheeree', 1), ('iht', 1), ('thaa', 1), ('faar', 1), ('caz', 1), ('dey', 1), ('gat', 1), ('ovr', 1), ('cmputr', 1), ('atl', 1), ('chiick', 1), ('saiid', 1), ('lyk', 1), ('qarbaqe', 1), ('biq', 1), ('sincee', 1), ('forev', 1), ('wierd', 1), ('f', 1), ('givin', 1), ('sometimesz', 1), ('fuun', 1), ('us', 1), ('aree', 1), ('hott', 1), ('esp', 1), ('tomm', 1), ('bridgr', 1), ('themm', 1), ('probley', 1), ('thinkng', 1), ('tard', 1), ('chem', 1), ('bio', 1), ('gigi', 1), ('new', 1), ('sorryy', 1), ('industr', 1), ('afta', 1), ('otha', 1), ('sure', 1), ('righh', 1), ('roc', 1), ('interestin', 1), ('yess', 1), ('shootin', 1), ('irrate', 1), ('0', 1), ('ey', 1), ('probs', 1), ('remmebner', 1), ('mee', 1), ('cookin', 1), ('hawtness', 1), ('thinjg', 1), ('wearin', 1), ('preciate', 1), ('wifey', 1), ('hunni', 1), ('snappin', 1), ('nw', 1), ('feelign', 1), ('beggin', 1), ('thuggish', 1), ('ladyish', 1), ('wrk', 1), ('tomarra', 1), ('dolla', 1), ('stong', 1), ('yeahh', 1), ('knoee', 1), ('tuh', 1), ('ntn', 1), ('interestng', 1), ('aite', 1), ('sesh', 1), ('exausted', 1), ('uz', 1), ('bizness', 1), (\"thak's\", 1), ('eing', 1), ('amzing', 1), ('girl', 1), ('wiff', 1), ('crazi', 1), ('knoe', 1), ('shoppin', 1), ('tele', 1), ('2marrow', 1), ('fo', 1), ('nthn', 1), ('btw', 1), ('shuld', 1), ('4get', 1), ('cofused', 1), ('redberry', 1), ('rockin', 1), ('foto', 1), ('gt', 1), ('inportant', 1), ('sumfng', 1), ('nt', 1), ('siging', 1), ('convo', 1), ('long', 1), ('umm', 1), ('tmr', 1), ('raight', 1), ('mor', 1), ('puja', 1), ('fried', 1), ('finge', 1), ('kissin', 1), ('every1', 1), ('live', 1), ('readyy', 1), ('wil', 1), ('mis', 1), ('dier', 1), ('iza', 1), ('ee', 1), ('love', 1), ('up', 1), ('ower', 1), ('missin', 1), ('2day', 1), ('makeing', 1), ('mic', 1), ('vick', 1), ('thaann', 1)]\n"
     ]
    }
   ],
   "source": [
    "import nltk\n",
    "import operator\n",
    "frequency = nltk.FreqDist(OOV_no_duplicate)\n",
    "sorted_x = sorted(frequency.items(), key=operator.itemgetter(1),reverse=True)\n",
    "print(sorted_x)"
   ]
  },
  {
   "cell_type": "markdown",
   "metadata": {},
   "source": [
    "### [POS tagging of OOV tokens](http://www.cs.cmu.edu/~ark/TweetNLP/)"
   ]
  },
  {
   "cell_type": "code",
   "execution_count": 7,
   "metadata": {
    "collapsed": true
   },
   "outputs": [],
   "source": [
    "f =  open('OOV_tag.txt')\n",
    "taggedOOV = {}\n",
    "confidence = {}\n",
    "for line in f:\n",
    "    words = line.split()\n",
    "    taggedOOV[words[0]] = words[1]\n",
    "    confidence[words[0]] = words[2]  \n",
    "f.close()"
   ]
  },
  {
   "cell_type": "markdown",
   "metadata": {},
   "source": [
    "### Online look up for the definition of a slang (slow though)\n",
    "\n",
    "- one-to-many normalisation e.g lol -> laugh out loud\n",
    "- online look up: https://www.noslang.com/search"
   ]
  },
  {
   "cell_type": "code",
   "execution_count": 7,
   "metadata": {
    "collapsed": true
   },
   "outputs": [],
   "source": [
    "import requests\n",
    "from bs4 import BeautifulSoup as BS\n",
    "import re\n",
    "\n",
    "def slangDict(slang):\n",
    "    text = requests.get('https://www.noslang.com/search/' + slang).text\n",
    "    soup = BS(text, 'lxml')\n",
    "    try:\n",
    "        definition = \" \".join(re.search(\"means.*-\" , soup.find(name=\"h3\").text).group(0).split()[1:-1])\n",
    "    except: \n",
    "        definition = slang\n",
    "    return definition"
   ]
  },
  {
   "cell_type": "code",
   "execution_count": 8,
   "metadata": {},
   "outputs": [
    {
     "data": {
      "text/plain": [
       "'i love you'"
      ]
     },
     "execution_count": 8,
     "metadata": {},
     "output_type": "execute_result"
    }
   ],
   "source": [
    "slangDict(\"ily\")"
   ]
  },
  {
   "cell_type": "code",
   "execution_count": 9,
   "metadata": {},
   "outputs": [
    {
     "data": {
      "text/plain": [
       "'laughing out loud'"
      ]
     },
     "execution_count": 9,
     "metadata": {},
     "output_type": "execute_result"
    }
   ],
   "source": [
    "slangDict(\"lol\")"
   ]
  },
  {
   "cell_type": "markdown",
   "metadata": {},
   "source": [
    "### Matching against the dictionary"
   ]
  },
  {
   "cell_type": "code",
   "execution_count": 40,
   "metadata": {
    "collapsed": true
   },
   "outputs": [],
   "source": [
    "sub1=[]\n",
    "sub2=[]\n",
    "sub3=[]\n",
    "\n",
    "for index, item in enumerate(OOV_no_duplicate):    \n",
    "    sub1.append(item)\n",
    "    sub2.append(correct[index])\n",
    "    sub3.append(levenshtein_distance(item,dict1))"
   ]
  },
  {
   "cell_type": "code",
   "execution_count": 35,
   "metadata": {},
   "outputs": [
    {
     "data": {
      "text/plain": [
       "0.4588785046728972"
      ]
     },
     "execution_count": 35,
     "metadata": {},
     "output_type": "execute_result"
    }
   ],
   "source": [
    "recall(correct, sub3)"
   ]
  },
  {
   "cell_type": "code",
   "execution_count": 36,
   "metadata": {},
   "outputs": [
    {
     "data": {
      "text/plain": [
       "0.013009724172650432"
      ]
     },
     "execution_count": 36,
     "metadata": {},
     "output_type": "execute_result"
    }
   ],
   "source": [
    "precision(correct, sub3)"
   ]
  },
  {
   "cell_type": "code",
   "execution_count": 41,
   "metadata": {},
   "outputs": [
    {
     "data": {
      "text/plain": [
       "0.16261682242990655"
      ]
     },
     "execution_count": 41,
     "metadata": {},
     "output_type": "execute_result"
    }
   ],
   "source": [
    "accuracy(correct, sub3)"
   ]
  },
  {
   "cell_type": "code",
   "execution_count": 42,
   "metadata": {
    "collapsed": true
   },
   "outputs": [],
   "source": [
    "import aspell\n",
    "import enchant\n",
    "d = enchant.Dict(\"en_US\")\n",
    "s = aspell.Speller('lang', 'en')"
   ]
  },
  {
   "cell_type": "code",
   "execution_count": 11,
   "metadata": {},
   "outputs": [
    {
     "data": {
      "text/plain": [
       "['dint',\n",
       " \"don't\",\n",
       " 'font',\n",
       " 'DOT',\n",
       " 'Don',\n",
       " 'Dot',\n",
       " 'don',\n",
       " 'dot',\n",
       " 'Ont',\n",
       " 'dent',\n",
       " 'Dona',\n",
       " 'Donn',\n",
       " 'dona',\n",
       " 'done',\n",
       " 'Dons',\n",
       " 'Mont',\n",
       " 'cont',\n",
       " 'dolt',\n",
       " 'dong',\n",
       " 'dons',\n",
       " 'dost',\n",
       " 'wont',\n",
       " \"Don's\",\n",
       " \"don's\",\n",
       " \"won't\"]"
      ]
     },
     "execution_count": 11,
     "metadata": {},
     "output_type": "execute_result"
    }
   ],
   "source": [
    "s.suggest(\"dont\")"
   ]
  },
  {
   "cell_type": "code",
   "execution_count": 13,
   "metadata": {},
   "outputs": [
    {
     "data": {
      "text/plain": [
       "['dot',\n",
       " 'don',\n",
       " 'donut',\n",
       " \"don't\",\n",
       " 'cont',\n",
       " 'font',\n",
       " 'wont',\n",
       " 'Mont',\n",
       " 'dent',\n",
       " 'dint',\n",
       " 'dost',\n",
       " 'dolt',\n",
       " 'done',\n",
       " 'dons',\n",
       " 'dona']"
      ]
     },
     "execution_count": 13,
     "metadata": {},
     "output_type": "execute_result"
    }
   ],
   "source": [
    "d.suggest(\"dont\")"
   ]
  },
  {
   "cell_type": "code",
   "execution_count": 385,
   "metadata": {},
   "outputs": [
    {
     "data": {
      "text/plain": [
       "FreqDist({0: 164,\n",
       "          1: 392,\n",
       "          2: 328,\n",
       "          3: 96,\n",
       "          4: 50,\n",
       "          5: 22,\n",
       "          6: 5,\n",
       "          7: 9,\n",
       "          8: 3,\n",
       "          14: 1})"
      ]
     },
     "execution_count": 385,
     "metadata": {},
     "output_type": "execute_result"
    }
   ],
   "source": [
    "# plt.plot([abs(x - y) for x, y in zip(lenOOV, lencorrect)])\n",
    "# plt.show()\n",
    "# print([abs(x - y) for x, y in zip(lenOOV, lencorrect)])\n",
    "# import nltk\n",
    "nltk.FreqDist([abs(x - y) for x, y in zip(lenOOV, lencorrect)])\n",
    "# wordlen = list(zip(lenOOV,lencorrect))\n",
    "# wordlen.sort(key=lambda tup: tup[0])\n",
    "# print(wordlen)"
   ]
  }
 ],
 "metadata": {
  "kernelspec": {
   "display_name": "Python 3",
   "language": "python",
   "name": "python3"
  },
  "language_info": {
   "codemirror_mode": {
    "name": "ipython",
    "version": 3
   },
   "file_extension": ".py",
   "mimetype": "text/x-python",
   "name": "python",
   "nbconvert_exporter": "python",
   "pygments_lexer": "ipython3",
   "version": "3.6.2"
  }
 },
 "nbformat": 4,
 "nbformat_minor": 2
}
